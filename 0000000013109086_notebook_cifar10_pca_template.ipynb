{
 "cells": [
  {
   "cell_type": "code",
   "execution_count": 1,
   "metadata": {},
   "outputs": [],
   "source": [
    "import cifar10\n",
    "import matplotlib.pyplot as plt\n",
    "from sklearn.model_selection import train_test_split,cross_val_score\n",
    "from sklearn.neighbors import KNeighborsClassifier\n",
    "from sklearn.metrics import classification_report\n",
    "import numpy as np\n",
    "from sklearn.ensemble import RandomForestClassifier \n",
    "from sklearn.svm import SVC\n",
    "from sklearn.tree import DecisionTreeClassifier\n",
    "from sklearn.linear_model import LogisticRegression\n",
    "from sklearn.decomposition import PCA\n",
    "from sklearn import preprocessing"
   ]
  },
  {
   "cell_type": "code",
   "execution_count": 26,
   "metadata": {},
   "outputs": [],
   "source": [
    "def f(n):\n",
    "    if n==0:\n",
    "        return 'airplane'\n",
    "    if n==1:\n",
    "        return 'automobile'\n",
    "    if n==2:\n",
    "        return 'bird'\n",
    "    if n==3:\n",
    "        return  'cat'\n",
    "    if n==4:\n",
    "        return  'deer'\n",
    "    if n==5:\n",
    "        return  'dog'\n",
    "    if n==6:\n",
    "        return 'frog'\n",
    "    if n==7:\n",
    "        return 'horse'\n",
    "    if n==8:\n",
    "        return 'ship'\n",
    "    if n==9:\n",
    "        return 'truck'\n",
    "    else:return n"
   ]
  },
  {
   "cell_type": "code",
   "execution_count": 2,
   "metadata": {},
   "outputs": [],
   "source": [
    "cifar10.data_path = \"data/CIFAR-10/\""
   ]
  },
  {
   "cell_type": "code",
   "execution_count": 6,
   "metadata": {},
   "outputs": [
    {
     "name": "stdout",
     "output_type": "stream",
     "text": [
      "- Download progress: 100.0%\n",
      "Download finished. Extracting files.\n",
      "Done.\n"
     ]
    }
   ],
   "source": [
    "cifar10.maybe_download_and_extract()"
   ]
  },
  {
   "cell_type": "code",
   "execution_count": 3,
   "metadata": {},
   "outputs": [
    {
     "name": "stdout",
     "output_type": "stream",
     "text": [
      "Loading data: data/CIFAR-10/cifar-10-batches-py/batches.meta\n"
     ]
    },
    {
     "data": {
      "text/plain": [
       "['airplane',\n",
       " 'automobile',\n",
       " 'bird',\n",
       " 'cat',\n",
       " 'deer',\n",
       " 'dog',\n",
       " 'frog',\n",
       " 'horse',\n",
       " 'ship',\n",
       " 'truck']"
      ]
     },
     "execution_count": 3,
     "metadata": {},
     "output_type": "execute_result"
    }
   ],
   "source": [
    "class_names = cifar10.load_class_names()\n",
    "class_names"
   ]
  },
  {
   "cell_type": "code",
   "execution_count": 4,
   "metadata": {},
   "outputs": [
    {
     "name": "stdout",
     "output_type": "stream",
     "text": [
      "Loading data: data/CIFAR-10/cifar-10-batches-py/data_batch_1\n",
      "Loading data: data/CIFAR-10/cifar-10-batches-py/data_batch_2\n",
      "Loading data: data/CIFAR-10/cifar-10-batches-py/data_batch_3\n",
      "Loading data: data/CIFAR-10/cifar-10-batches-py/data_batch_4\n",
      "Loading data: data/CIFAR-10/cifar-10-batches-py/data_batch_5\n",
      "Loading data: data/CIFAR-10/cifar-10-batches-py/test_batch\n"
     ]
    }
   ],
   "source": [
    "images_train, cls_train, labels_train = cifar10.load_training_data()\n",
    "images_test, cls_test, labels_test = cifar10.load_test_data()\n"
   ]
  },
  {
   "cell_type": "code",
   "execution_count": 5,
   "metadata": {},
   "outputs": [],
   "source": [
    "x=images_train.reshape((50000,3072))\n",
    "x_t=images_test.reshape((10000,3072))\n",
    "y=cls_train\n",
    "y_t=cls_test\n",
    "\n"
   ]
  },
  {
   "cell_type": "code",
   "execution_count": 6,
   "metadata": {},
   "outputs": [],
   "source": [
    "scaler=preprocessing.StandardScaler()\n",
    "\n",
    "scaler.fit(x)\n",
    "scaler.transform(x)\n",
    "pca=PCA()"
   ]
  },
  {
   "cell_type": "code",
   "execution_count": 7,
   "metadata": {},
   "outputs": [],
   "source": [
    "x_transformed=pca.fit_transform(x)\n"
   ]
  },
  {
   "cell_type": "code",
   "execution_count": 8,
   "metadata": {},
   "outputs": [],
   "source": [
    "total=sum(pca.explained_variance_)"
   ]
  },
  {
   "cell_type": "code",
   "execution_count": 9,
   "metadata": {},
   "outputs": [
    {
     "data": {
      "text/plain": [
       "217"
      ]
     },
     "execution_count": 9,
     "metadata": {},
     "output_type": "execute_result"
    }
   ],
   "source": [
    "total=sum(pca.explained_variance_)\n",
    "k=0\n",
    "current_variance=0\n",
    "while current_variance/total <0.95:\n",
    "    current_variance+=pca.explained_variance_[k]\n",
    "    k=k+1\n",
    "k    "
   ]
  },
  {
   "cell_type": "code",
   "execution_count": 10,
   "metadata": {},
   "outputs": [],
   "source": [
    "pca=PCA(n_components=k)\n",
    "x_transformed2=pca.fit_transform(x)"
   ]
  },
  {
   "cell_type": "code",
   "execution_count": 11,
   "metadata": {},
   "outputs": [],
   "source": [
    "x_train,x_test,y_train,y_test=train_test_split(x_transformed2,y)"
   ]
  },
  {
   "cell_type": "code",
   "execution_count": 12,
   "metadata": {},
   "outputs": [
    {
     "name": "stdout",
     "output_type": "stream",
     "text": [
      "              precision    recall  f1-score   support\n",
      "\n",
      "           0       0.30      0.31      0.30      1276\n",
      "           1       0.31      0.28      0.29      1257\n",
      "           2       0.19      0.21      0.20      1255\n",
      "           3       0.18      0.17      0.18      1235\n",
      "           4       0.22      0.22      0.22      1292\n",
      "           5       0.18      0.18      0.18      1197\n",
      "           6       0.27      0.28      0.28      1226\n",
      "           7       0.23      0.24      0.23      1237\n",
      "           8       0.35      0.34      0.35      1268\n",
      "           9       0.27      0.26      0.26      1257\n",
      "\n",
      "    accuracy                           0.25     12500\n",
      "   macro avg       0.25      0.25      0.25     12500\n",
      "weighted avg       0.25      0.25      0.25     12500\n",
      "\n"
     ]
    }
   ],
   "source": [
    "clf3=DecisionTreeClassifier()\n",
    "clf3.fit(x_train,y_train)\n",
    "y_pred=clf3.predict(x_test)\n",
    "print(classification_report(y_test,y_pred))"
   ]
  },
  {
   "cell_type": "code",
   "execution_count": 13,
   "metadata": {},
   "outputs": [
    {
     "name": "stderr",
     "output_type": "stream",
     "text": [
      "D:\\anaconda\\lib\\site-packages\\sklearn\\ensemble\\forest.py:245: FutureWarning: The default value of n_estimators will change from 10 in version 0.20 to 100 in 0.22.\n",
      "  \"10 in version 0.20 to 100 in 0.22.\", FutureWarning)\n"
     ]
    },
    {
     "name": "stdout",
     "output_type": "stream",
     "text": [
      "              precision    recall  f1-score   support\n",
      "\n",
      "           0       0.27      0.42      0.33      1276\n",
      "           1       0.29      0.38      0.32      1257\n",
      "           2       0.18      0.23      0.21      1255\n",
      "           3       0.17      0.19      0.18      1235\n",
      "           4       0.26      0.26      0.26      1292\n",
      "           5       0.22      0.20      0.21      1197\n",
      "           6       0.29      0.24      0.26      1226\n",
      "           7       0.28      0.18      0.22      1237\n",
      "           8       0.44      0.34      0.38      1268\n",
      "           9       0.33      0.21      0.25      1257\n",
      "\n",
      "    accuracy                           0.26     12500\n",
      "   macro avg       0.27      0.26      0.26     12500\n",
      "weighted avg       0.27      0.26      0.26     12500\n",
      "\n"
     ]
    }
   ],
   "source": [
    "clf4=RandomForestClassifier()\n",
    "clf4.fit(x_train,y_train)\n",
    "y_pred=clf4.predict(x_test)\n",
    "print(classification_report(y_test,y_pred))"
   ]
  },
  {
   "cell_type": "code",
   "execution_count": 14,
   "metadata": {},
   "outputs": [
    {
     "name": "stderr",
     "output_type": "stream",
     "text": [
      "D:\\anaconda\\lib\\site-packages\\sklearn\\svm\\base.py:193: FutureWarning: The default value of gamma will change from 'auto' to 'scale' in version 0.22 to account better for unscaled features. Set gamma explicitly to 'auto' or 'scale' to avoid this warning.\n",
      "  \"avoid this warning.\", FutureWarning)\n"
     ]
    },
    {
     "name": "stdout",
     "output_type": "stream",
     "text": [
      "              precision    recall  f1-score   support\n",
      "\n",
      "           0       0.56      0.57      0.57      1276\n",
      "           1       0.62      0.62      0.62      1257\n",
      "           2       0.42      0.41      0.41      1255\n",
      "           3       0.36      0.35      0.36      1235\n",
      "           4       0.50      0.45      0.47      1292\n",
      "           5       0.44      0.41      0.43      1197\n",
      "           6       0.50      0.60      0.55      1226\n",
      "           7       0.62      0.57      0.59      1237\n",
      "           8       0.64      0.66      0.65      1268\n",
      "           9       0.57      0.62      0.59      1257\n",
      "\n",
      "    accuracy                           0.53     12500\n",
      "   macro avg       0.52      0.52      0.52     12500\n",
      "weighted avg       0.52      0.53      0.52     12500\n",
      "\n"
     ]
    }
   ],
   "source": [
    "clf5=SVC()\n",
    "clf5.fit(x_train,y_train)\n",
    "y_pred=clf5.predict(x_test)\n",
    "print(classification_report(y_test,y_pred))"
   ]
  },
  {
   "cell_type": "code",
   "execution_count": 16,
   "metadata": {},
   "outputs": [
    {
     "name": "stdout",
     "output_type": "stream",
     "text": [
      "              precision    recall  f1-score   support\n",
      "\n",
      "           0       0.59      0.60      0.59      1000\n",
      "           1       0.64      0.62      0.63      1000\n",
      "           2       0.41      0.39      0.40      1000\n",
      "           3       0.38      0.38      0.38      1000\n",
      "           4       0.46      0.41      0.43      1000\n",
      "           5       0.48      0.42      0.45      1000\n",
      "           6       0.51      0.63      0.56      1000\n",
      "           7       0.60      0.54      0.57      1000\n",
      "           8       0.63      0.68      0.65      1000\n",
      "           9       0.56      0.60      0.58      1000\n",
      "\n",
      "    accuracy                           0.53     10000\n",
      "   macro avg       0.53      0.53      0.52     10000\n",
      "weighted avg       0.53      0.53      0.52     10000\n",
      "\n"
     ]
    }
   ],
   "source": [
    "scaler.fit(x_t)\n",
    "scaler.transform(x_t)\n",
    "x_transformed_test=pca.transform(x_t)\n",
    "y_test_pred=clf5.predict(x_transformed_test)\n",
    "print(classification_report(y_t,y_test_pred))\n"
   ]
  },
  {
   "cell_type": "code",
   "execution_count": 71,
   "metadata": {},
   "outputs": [],
   "source": [
    "import pandas as pd\n",
    "df1=pd.DataFrame(data=y_test_pred)\n",
    "df2=pd.DataFrame(data=y_t)\n",
    "df1.columns=[\"r\"]\n",
    "df2.columns=[\"r\"]\n",
    "df1[\"r\"]=df1.r.apply(f)\n",
    "df2[\"r\"]=df2.r.apply(f)\n",
    "d1=df1.to_numpy().reshape((10000))\n",
    "d2=df2.to_numpy().reshape((10000))\n",
    "np.savetxt(\"cifiarpred1.csv\",d1,fmt='%s')\n",
    "np.savetxt(\"cifiarpred2.csv\",d2,fmt='%s')"
   ]
  },
  {
   "cell_type": "code",
   "execution_count": null,
   "metadata": {},
   "outputs": [],
   "source": []
  }
 ],
 "metadata": {
  "anaconda-cloud": {},
  "kernelspec": {
   "display_name": "Python 3",
   "language": "python",
   "name": "python3"
  },
  "language_info": {
   "codemirror_mode": {
    "name": "ipython",
    "version": 3
   },
   "file_extension": ".py",
   "mimetype": "text/x-python",
   "name": "python",
   "nbconvert_exporter": "python",
   "pygments_lexer": "ipython3",
   "version": "3.7.7"
  }
 },
 "nbformat": 4,
 "nbformat_minor": 1
}
